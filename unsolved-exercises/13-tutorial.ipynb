{
 "cells": [
  {
   "cell_type": "markdown",
   "metadata": {},
   "source": [
    "# Intermine-Python: Tutorial 13: Query Manager"
   ]
  },
  {
   "cell_type": "markdown",
   "metadata": {},
   "source": [
    "This tutorial will tell you about the Query Manager and how to it can be used to make better use of queries. We hope at this stage you have the 'intermine' package installed "
   ]
  },
  {
   "cell_type": "markdown",
   "metadata": {},
   "source": [
    "We start by importing the module from InterMine package. "
   ]
  },
  {
   "cell_type": "code",
   "execution_count": null,
   "metadata": {},
   "outputs": [],
   "source": [
    "# import query_manager first\n",
    "# for easy use, set qm to replace it\n",
    "from intermine import query_manager as qm"
   ]
  },
  {
   "cell_type": "markdown",
   "metadata": {},
   "source": [
    "The next step will be to access the account whose query options we want to manage"
   ]
  },
  {
   "cell_type": "code",
   "execution_count": null,
   "metadata": {},
   "outputs": [],
   "source": [
    "# then access your account and save mines later you create by save_mine_and_token\n",
    "# use your own token got from your account details\n",
    "\n",
    "# Syntax: qm.save_mine_and_token(\"flymine\",\"your token\")"
   ]
  },
  {
   "cell_type": "markdown",
   "metadata": {},
   "source": [
    "There are now four functions that we can utilise:"
   ]
  },
  {
   "cell_type": "code",
   "execution_count": null,
   "metadata": {
    "tags": []
   },
   "outputs": [],
   "source": [
    "# post a query to your account\n",
    "# the format is as follows\n",
    "qm.post_query('<query name=\"test\" model=\"genomic\" view=\"Gene.length\\\n",
    "            Gene.symbol\" longDescription=\"\" sortOrder=\"Gene.length asc\">\\\n",
    "            </query>')"
   ]
  },
  {
   "cell_type": "code",
   "execution_count": null,
   "metadata": {},
   "outputs": [],
   "source": [
    "# suppose you want to get all query names in your account, then use: \n",
    "# qm.get_all_query_names()"
   ]
  },
  {
   "cell_type": "code",
   "execution_count": null,
   "metadata": {},
   "outputs": [],
   "source": [
    "# if you want to get information of a query,\n",
    "# try get_query('query_name')"
   ]
  },
  {
   "cell_type": "code",
   "execution_count": null,
   "metadata": {},
   "outputs": [],
   "source": [
    "# to delete a query, use:\n",
    "# qm.delete_query('query_name')"
   ]
  },
  {
   "cell_type": "markdown",
   "metadata": {},
   "source": [
    "Now that we have made dealing with queries easier, the next tutorial will have details of how we can visualise the data using Python client."
   ]
  }
 ],
 "metadata": {
  "anaconda-cloud": {},
  "kernelspec": {
   "display_name": "Python 3",
   "language": "python",
   "name": "python3"
  },
  "language_info": {
   "codemirror_mode": {
    "name": "ipython",
    "version": 3
   },
   "file_extension": ".py",
   "mimetype": "text/x-python",
   "name": "python",
   "nbconvert_exporter": "python",
   "pygments_lexer": "ipython3",
   "version": "3.8.3-final"
  }
 },
 "nbformat": 4,
 "nbformat_minor": 1
}