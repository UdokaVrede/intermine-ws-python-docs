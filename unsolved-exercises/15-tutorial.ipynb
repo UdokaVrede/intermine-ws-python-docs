{
 "cells": [
  {
   "cell_type": "markdown",
   "metadata": {},
   "source": [
    "# Tutorial 15 - Simple Ways to Manipulate the Model"
   ]
  },
  {
   "cell_type": "markdown",
   "metadata": {},
   "source": [
    "This tutorial will help you utilise the module to get details about the data model of various mines. These are additional examples, besides the ones covered [here](http://intermine.org/intermine-ws-python/intermine.html#module-intermine.model). Each class (data type) has information containing references to other objects in the data model, collections of references or attribute details."
   ]
  },
  {
   "cell_type": "markdown",
   "metadata": {},
   "source": [
    "Let's begin by showing all the fields a data type contains (including all Attributes, References and Collections listed alphabetically),then-"
   ]
  },
  {
   "cell_type": "code",
   "execution_count": null,
   "metadata": {
    "scrolled": true
   },
   "outputs": [],
   "source": [
    "# initial setup\n",
    "from intermine.webservice import Service\n",
    "service = Service(\"https://flymine.org/flymine/service\")\n",
    "model = service.model\n",
    "# Each class can have any number of attributes (which store primitive data, like numbers, dates, and strings), references to other objects in the database, and collections of other objects in the database. \n",
    "# Here we get the datatype is Gene with the method get_class.\n",
    "# Then we use datatype.fields to print all datatypes in class Gene.\n",
    "datatype = model.get_class(\"Gene\")\n",
    "datatype.fields"
   ]
  },
  {
   "cell_type": "markdown",
   "metadata": {},
   "source": [
    "However suppose you have a class name, and want to know the details about a particular field it contains, then you can do the following- "
   ]
  },
  {
   "cell_type": "code",
   "execution_count": null,
   "metadata": {},
   "outputs": [],
   "source": [
    "datatype = model.get_class(\"Protein\")\n",
    "datatype.get_field('genes')"
   ]
  },
  {
   "cell_type": "markdown",
   "metadata": {},
   "source": [
    "Note that if you enter a field name that does not belong to the class, then you will receive an error. "
   ]
  },
  {
   "cell_type": "code",
   "execution_count": null,
   "metadata": {},
   "outputs": [],
   "source": [
    "# Syntax: datatype.get_field('field_name')"
   ]
  },
  {
   "cell_type": "markdown",
   "metadata": {},
   "source": [
    "Now, suppose you want to find out the nature of the data you retrieved earlier (i.e. whether it is an 'Attribute' or 'Collection'/'Reference'), you can easily iterate over the fields we had obtained earlier- "
   ]
  },
  {
   "cell_type": "code",
   "execution_count": null,
   "metadata": {
    "tags": []
   },
   "outputs": [],
   "source": [
    "datatype = model.get_class(\"Protein\")\n",
    "fieldtypes=[]\n",
    "for field in datatype.fields:\n",
    "\n",
    "    fieldtypes.append(str(field))\n",
    "    path = model.make_path(\"Protein\"+\".\"+fieldtypes[len(fieldtypes)-1])\n",
    "    if path.is_reference()== True:\n",
    "        print(fieldtypes[len(fieldtypes)-1],'-', 'REFERENCE')\n",
    "       \n",
    "    if path.is_attribute()== True:\n",
    "        print(fieldtypes[len(fieldtypes)-1], '-','ATTRIBUTE')\n",
    "        "
   ]
  },
  {
   "cell_type": "markdown",
   "metadata": {},
   "source": [
    "Notice that we used make_path() in the process. This function helps us construct paths and inspect whether it is valid or not, or as in here, utilise it to get more information from the model. "
   ]
  },
  {
   "cell_type": "markdown",
   "metadata": {},
   "source": [
    "Now let's look at what information we can get regarding 'inheritance' of class'. "
   ]
  },
  {
   "cell_type": "markdown",
   "metadata": {},
   "source": [
    "The isa(input) function helps us determine whether 'input' belongs to the ancestry(is a parent class or one of the parents of the parent class or so on) of a given class. "
   ]
  },
  {
   "cell_type": "code",
   "execution_count": null,
   "metadata": {},
   "outputs": [],
   "source": [
    "# in this example, we want to see whether A is an ancestor of B\n",
    "# the syntax is:\n",
    "# datatype = model.get_class(\"B\")\n",
    "# datatype.isa('A')"
   ]
  },
  {
   "cell_type": "markdown",
   "metadata": {},
   "source": [
    "Now let's see how we can get retrieve the ancestry of a particular class- "
   ]
  },
  {
   "cell_type": "code",
   "execution_count": null,
   "metadata": {
    "tags": []
   },
   "outputs": [],
   "source": [
    "# the syntax to get the ancestry of a particular class:\n",
    "# datatype = model.get_class(\"class_name\")\n",
    "# classes = model.to_ancestry(datatype)\n",
    "# for i in classes:\n",
    "#    print(i.name)"
   ]
  },
  {
   "cell_type": "markdown",
   "metadata": {},
   "source": [
    "This tutorial thus explained how to get information regarding a class i.e. its attributes and the inheritance it shares without having to retrieve the entire model! "
   ]
  }
 ],
 "metadata": {
  "kernelspec": {
   "display_name": "Python 3",
   "language": "python",
   "name": "python_defaultSpec_1593507247761"
  },
  "language_info": {
   "codemirror_mode": {
    "name": "ipython",
    "version": 3
   },
   "file_extension": ".py",
   "mimetype": "text/x-python",
   "name": "python",
   "nbconvert_exporter": "python",
   "pygments_lexer": "ipython3",
   "version": "3.8.3-final"
  }
 },
 "nbformat": 4,
 "nbformat_minor": 2
}